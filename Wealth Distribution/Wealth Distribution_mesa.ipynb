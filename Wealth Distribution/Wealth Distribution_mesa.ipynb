{
 "cells": [
  {
   "cell_type": "code",
   "execution_count": 2,
   "metadata": {},
   "outputs": [],
   "source": [
    "from mesa import Model, Agent\n",
    "from mesa.time import RandomActivation\n",
    "\n",
    "import random"
   ]
  },
  {
   "cell_type": "code",
   "execution_count": 3,
   "metadata": {},
   "outputs": [],
   "source": [
    "class MoneyAgent(Agent):\n",
    "    def __init__(self, unique_id, model):\n",
    "        super().__init__(unique_id, model)\n",
    "        self.wealth = 1\n",
    "        \n",
    "class MoneyModel(Model):\n",
    "    def __init__(self, N):\n",
    "        self.num_agents = N\n",
    "        \n",
    "        for i in range(self.num_agents):\n",
    "            a = MoneyAgent(i, self)"
   ]
  },
  {
   "cell_type": "markdown",
   "metadata": {},
   "source": [
    "### What happened with <code>super().__init__(unique_id, model)</code>?\n",
    "\n",
    "Since <code>MoneyAgent</code> is the child of the parent class <code>Agent</code>, it calls the <code>__init__()</code> method of the parent and store the unique_id and model."
   ]
  },
  {
   "cell_type": "code",
   "execution_count": 4,
   "metadata": {},
   "outputs": [],
   "source": [
    "class MoneyAgent(Agent):\n",
    "    def __init__(self, unique_id, model):\n",
    "        super().__init__(unique_id, model)\n",
    "        self.wealth = 1\n",
    "    def step(self):\n",
    "        if self.wealth == 0:\n",
    "            return\n",
    "        other_agent = random.choice(self.model.schedule.agents)\n",
    "        other_agent.wealth += 1\n",
    "        self.wealth -= 1\n",
    "\n",
    "class MoneyModel(Model):\n",
    "    def __init__(self, N):\n",
    "        self.num_agents = N\n",
    "        self.schedule = RandomActivation(self)\n",
    "        \n",
    "        for i in range(self.num_agents):\n",
    "            a = MoneyAgent(i, self)\n",
    "            self.schedule.add(a)\n",
    "            \n",
    "    def step(self):\n",
    "        self.schedule.step()"
   ]
  },
  {
   "cell_type": "code",
   "execution_count": null,
   "metadata": {},
   "outputs": [],
   "source": []
  },
  {
   "cell_type": "markdown",
   "metadata": {},
   "source": [
    "### How <code>Step</code> Method works?\n",
    "For now, let’s use one of the simplest ones: <code>RandomActivation</code> which *activates all the agents once per step, in random order.*\n",
    "\n",
    "Every agent is expected to have a <code>step</code> method, which *takes a model object as its only argument.*\n",
    "→ this is the agent’s action when it is activated.\n",
    "\n",
    "We add an agent to the <code>schedule</code> using the <code>add</code> method;\n",
    "\n",
    "when **we call the <code>schedule</code>’s <code>step</code> method, it shuffles the order of the agents, then activates them all, one at a time.**"
   ]
  },
  {
   "cell_type": "code",
   "execution_count": 4,
   "metadata": {},
   "outputs": [],
   "source": [
    "model = MoneyModel(10)"
   ]
  },
  {
   "cell_type": "code",
   "execution_count": 12,
   "metadata": {},
   "outputs": [
    {
     "data": {
      "text/plain": [
       "10"
      ]
     },
     "execution_count": 12,
     "metadata": {},
     "output_type": "execute_result"
    }
   ],
   "source": [
    "model.num_agents"
   ]
  },
  {
   "cell_type": "code",
   "execution_count": 28,
   "metadata": {},
   "outputs": [
    {
     "data": {
      "text/plain": [
       "[<__main__.MoneyAgent at 0x1b4785c2f98>,\n",
       " <__main__.MoneyAgent at 0x1b4785c2358>,\n",
       " <__main__.MoneyAgent at 0x1b4785c2e48>,\n",
       " <__main__.MoneyAgent at 0x1b4785a9278>,\n",
       " <__main__.MoneyAgent at 0x1b4785a9940>,\n",
       " <__main__.MoneyAgent at 0x1b4785a9908>,\n",
       " <__main__.MoneyAgent at 0x1b4785a9978>,\n",
       " <__main__.MoneyAgent at 0x1b4785a9048>,\n",
       " <__main__.MoneyAgent at 0x1b4785a9a90>,\n",
       " <__main__.MoneyAgent at 0x1b4785a98d0>]"
      ]
     },
     "execution_count": 28,
     "metadata": {},
     "output_type": "execute_result"
    }
   ],
   "source": [
    "model.schedule.agents"
   ]
  },
  {
   "cell_type": "code",
   "execution_count": 29,
   "metadata": {},
   "outputs": [
    {
     "data": {
      "text/plain": [
       "<__main__.MoneyAgent at 0x1b4785c2f98>"
      ]
     },
     "execution_count": 29,
     "metadata": {},
     "output_type": "execute_result"
    }
   ],
   "source": [
    "model.schedule.agents[0]"
   ]
  },
  {
   "cell_type": "code",
   "execution_count": 30,
   "metadata": {},
   "outputs": [
    {
     "data": {
      "text/plain": [
       "0"
      ]
     },
     "execution_count": 30,
     "metadata": {},
     "output_type": "execute_result"
    }
   ],
   "source": [
    "model.schedule.agents[0].unique_id"
   ]
  },
  {
   "cell_type": "code",
   "execution_count": 31,
   "metadata": {},
   "outputs": [
    {
     "data": {
      "text/plain": [
       "1"
      ]
     },
     "execution_count": 31,
     "metadata": {},
     "output_type": "execute_result"
    }
   ],
   "source": [
    "model.schedule.agents[1].unique_id"
   ]
  },
  {
   "cell_type": "code",
   "execution_count": 32,
   "metadata": {},
   "outputs": [
    {
     "name": "stdout",
     "output_type": "stream",
     "text": [
      "0 1\n",
      "1 1\n",
      "2 1\n",
      "3 1\n",
      "4 1\n",
      "5 1\n",
      "6 1\n",
      "7 1\n",
      "8 1\n",
      "9 1\n"
     ]
    }
   ],
   "source": [
    "# all agent have same wealth\n",
    "for i, agent in enumerate(model.schedule.agents):\n",
    "    print(agent.unique_id, agent.wealth)"
   ]
  },
  {
   "cell_type": "code",
   "execution_count": 35,
   "metadata": {},
   "outputs": [],
   "source": [
    "model.step()"
   ]
  },
  {
   "cell_type": "code",
   "execution_count": 36,
   "metadata": {},
   "outputs": [
    {
     "name": "stdout",
     "output_type": "stream",
     "text": [
      "9 1\n",
      "1 0\n",
      "4 2\n",
      "2 0\n",
      "3 0\n",
      "5 1\n",
      "6 1\n",
      "0 1\n",
      "8 2\n",
      "7 2\n"
     ]
    }
   ],
   "source": [
    "# some agents exchanged their wealths\n",
    "for i, agent in enumerate(model.schedule.agents):\n",
    "    print(agent.unique_id, agent.wealth)"
   ]
  },
  {
   "cell_type": "code",
   "execution_count": 37,
   "metadata": {},
   "outputs": [],
   "source": [
    "model.step()"
   ]
  },
  {
   "cell_type": "code",
   "execution_count": 38,
   "metadata": {},
   "outputs": [
    {
     "name": "stdout",
     "output_type": "stream",
     "text": [
      "6 1\n",
      "8 2\n",
      "7 2\n",
      "2 0\n",
      "0 1\n",
      "5 1\n",
      "3 1\n",
      "1 0\n",
      "9 0\n",
      "4 2\n"
     ]
    }
   ],
   "source": [
    "# again, some agents exchanged their wealths\n",
    "for i, agent in enumerate(model.schedule.agents):\n",
    "    print(agent.unique_id, agent.wealth)"
   ]
  },
  {
   "cell_type": "code",
   "execution_count": 39,
   "metadata": {},
   "outputs": [],
   "source": [
    "for i in range(100):\n",
    "    model.step()"
   ]
  },
  {
   "cell_type": "code",
   "execution_count": 40,
   "metadata": {},
   "outputs": [
    {
     "name": "stdout",
     "output_type": "stream",
     "text": [
      "0 1\n",
      "3 1\n",
      "6 0\n",
      "9 1\n",
      "7 0\n",
      "2 0\n",
      "4 0\n",
      "1 4\n",
      "5 2\n",
      "8 1\n"
     ]
    }
   ],
   "source": [
    "for i, agent in enumerate(model.schedule.agents):\n",
    "    print(agent.unique_id, agent.wealth)"
   ]
  },
  {
   "cell_type": "code",
   "execution_count": 44,
   "metadata": {},
   "outputs": [
    {
     "data": {
      "text/plain": [
       "(array([4., 0., 4., 0., 0., 1., 0., 0., 0., 1.]),\n",
       " array([0. , 0.4, 0.8, 1.2, 1.6, 2. , 2.4, 2.8, 3.2, 3.6, 4. ]),\n",
       " <a list of 10 Patch objects>)"
      ]
     },
     "execution_count": 44,
     "metadata": {},
     "output_type": "execute_result"
    },
    {
     "data": {
      "image/png": "[encoded data removed]",
      "text/plain": [
       "<matplotlib.figure.Figure at 0x1b47f6484e0>"
      ]
     },
     "metadata": {},
     "output_type": "display_data"
    }
   ],
   "source": [
    "import matplotlib.pyplot as plt\n",
    "%matplotlib inline\n",
    "agent_wealths = [a.wealth for a in model.schedule.agents]\n",
    "plt.hist(agent_wealths)"
   ]
  },
  {
   "cell_type": "code",
   "execution_count": 45,
   "metadata": {},
   "outputs": [],
   "source": [
    "model = MoneyModel(1000)\n",
    "for i in range(100):\n",
    "    model.step()"
   ]
  },
  {
   "cell_type": "code",
   "execution_count": 68,
   "metadata": {},
   "outputs": [
    {
     "data": {
      "image/png": "[encoded data removed]",
      "text/plain": [
       "<matplotlib.figure.Figure at 0x1b47fdca710>"
      ]
     },
     "metadata": {},
     "output_type": "display_data"
    }
   ],
   "source": [
    "import matplotlib.pyplot as plt\n",
    "%matplotlib inline\n",
    "agent_wealths = [a.wealth for a in model.schedule.agents]\n",
    "plt.hist(agent_wealths, bins = 30)\n",
    "plt.title(\"Distribution after 100 steps\")\n",
    "plt.grid()"
   ]
  },
  {
   "cell_type": "code",
   "execution_count": 79,
   "metadata": {},
   "outputs": [
    {
     "data": {
      "image/png": "[encoded data removed]",
      "text/plain": [
       "<matplotlib.figure.Figure at 0x1b403361390>"
      ]
     },
     "metadata": {},
     "output_type": "display_data"
    }
   ],
   "source": [
    "d = {}\n",
    "for i in range(max(agent_wealths)+1):\n",
    "    d[i] = agent_wealths.count(i)\n",
    "for k, v in d.items():\n",
    "    plt.bar(k, v, width = 0.3, color = \"lightblue\")\n",
    "plt.grid()"
   ]
  },
  {
   "cell_type": "code",
   "execution_count": 105,
   "metadata": {},
   "outputs": [
    {
     "data": {
      "image/png": "[encoded data removed]",
      "text/plain": [
       "<matplotlib.figure.Figure at 0x1b47fe0bf28>"
      ]
     },
     "metadata": {},
     "output_type": "display_data"
    }
   ],
   "source": [
    "import numpy as np\n",
    "plt.bar(x = np.array(list(d.items()))[:, 0],\n",
    "        height = np.array(list(d.items()))[:, 1])\n",
    "plt.grid()"
   ]
  },
  {
   "cell_type": "markdown",
   "metadata": {},
   "source": [
    "### Grid"
   ]
  },
  {
   "cell_type": "code",
   "execution_count": 153,
   "metadata": {},
   "outputs": [],
   "source": [
    "from mesa.space import MultiGrid, SingleGrid"
   ]
  },
  {
   "cell_type": "code",
   "execution_count": 187,
   "metadata": {},
   "outputs": [],
   "source": [
    "class MoneyAgent(Agent):\n",
    "    def __init__(self, unique_id, model):\n",
    "        super().__init__(unique_id, model)\n",
    "        self.wealth = 1\n",
    "    \"\"\"\"\"\"        \n",
    "    def step(self):\n",
    "        self.move()\n",
    "        if self.wealth > 0:\n",
    "            self.give_money()\n",
    "\n",
    "    def move(self):\n",
    "        possible_steps = self.model.grid.get_neighborhood(\n",
    "            self.pos,\n",
    "            moore = True,\n",
    "            include_center = False)\n",
    "        new_position = random.choice(possible_steps)\n",
    "        self.model.grid.move_agent(self, new_position)\n",
    "    \n",
    "    def give_money(self):\n",
    "        cellmates = self.model.grid.get_cell_list_contents([self.pos])\n",
    "        if len(cellmates) > 1:\n",
    "            other = random.choice(cellmates)\n",
    "            other.wealth += 1\n",
    "            self.wealth -= 1\n",
    "    \"\"\"\"\"\"\n",
    "class MoneyModel(Model):\n",
    "    def __init__(self, N, width, height):\n",
    "        self.num_agents = N\n",
    "        \"\"\"create grid\"\"\"\n",
    "        self.grid = MultiGrid(width, height, True)\n",
    "        \"\"\"\"\"\"\n",
    "        self.schedule = RandomActivation(self)\n",
    "        self.n_steps = 0\n",
    "        \n",
    "        for i in range(self.num_agents):\n",
    "            a = MoneyAgent(i, self)\n",
    "            self.schedule.add(a)\n",
    "            \"\"\"assign agent into a cell\"\"\"\n",
    "            x = random.randrange(self.grid.width)\n",
    "            y = random.randrange(self.grid.height)\n",
    "            self.grid.place_agent(a, (x, y))\n",
    "            \"\"\"\"\"\"\n",
    "    def step(self):\n",
    "        self.schedule.step()\n",
    "        self.n_steps += 1"
   ]
  },
  {
   "cell_type": "code",
   "execution_count": 195,
   "metadata": {},
   "outputs": [],
   "source": [
    "model = MoneyModel(50, 10, 10)"
   ]
  },
  {
   "cell_type": "code",
   "execution_count": 196,
   "metadata": {},
   "outputs": [
    {
     "name": "stdout",
     "output_type": "stream",
     "text": [
      "[(0, 1), (0, 2), (0, 4), (0, 6), (0, 8), (1, 1), (1, 4), (1, 5), (1, 7), (1, 8), (2, 0), (2, 1), (2, 2), (2, 5), (2, 7), (2, 8), (2, 9), (3, 1), (3, 2), (3, 6), (3, 7), (3, 8), (4, 0), (4, 1), (4, 3), (4, 4), (4, 5), (4, 6), (4, 8), (5, 1), (5, 2), (5, 3), (5, 4), (5, 5), (5, 6), (5, 9), (6, 0), (6, 1), (6, 2), (6, 3), (6, 4), (6, 5), (7, 0), (7, 1), (7, 2), (7, 4), (8, 0), (8, 1), (8, 2), (8, 3), (8, 4), (8, 5), (8, 6), (8, 8), (8, 9), (9, 0), (9, 2), (9, 3), (9, 6), (9, 9)]\n"
     ]
    },
    {
     "data": {
      "text/plain": [
       "60"
      ]
     },
     "execution_count": 196,
     "metadata": {},
     "output_type": "execute_result"
    }
   ],
   "source": [
    "# Since some agents share a cell, there has to be some empty cells\n",
    "import itertools\n",
    "grids = list(itertools.product(range(10), range(10)))\n",
    "empty_cells = []\n",
    "for grid in grids:\n",
    "    if model.grid.is_cell_empty(grid):\n",
    "        empty_cells.append(grid)\n",
    "print(empty_cells)\n",
    "len(empty_cells)"
   ]
  },
  {
   "cell_type": "code",
   "execution_count": 197,
   "metadata": {},
   "outputs": [
    {
     "data": {
      "text/plain": [
       "<matplotlib.colorbar.Colorbar at 0x1b4080fb198>"
      ]
     },
     "execution_count": 197,
     "metadata": {},
     "output_type": "execute_result"
    },
    {
     "data": {
      "image/png": "[encoded data removed]",
      "text/plain": [
       "<matplotlib.figure.Figure at 0x1b406b0a4a8>"
      ]
     },
     "metadata": {},
     "output_type": "display_data"
    }
   ],
   "source": [
    "# check the initial state\n",
    "agent_counts = np.zeros((model.grid.width, model.grid.height))\n",
    "for cell in model.grid.coord_iter():\n",
    "    content, x, y = cell\n",
    "    agent_counts[x][y] = len(content)\n",
    "plt.imshow(agent_counts)\n",
    "plt.colorbar()\n",
    "# in cell (3,3) 3 agents are together"
   ]
  },
  {
   "cell_type": "code",
   "execution_count": 204,
   "metadata": {},
   "outputs": [
    {
     "data": {
      "text/plain": [
       "{<__main__.MoneyAgent at 0x1b4042a56a0>,\n",
       " <__main__.MoneyAgent at 0x1b407f5a710>,\n",
       " <__main__.MoneyAgent at 0x1b407f5a898>}"
      ]
     },
     "execution_count": 204,
     "metadata": {},
     "output_type": "execute_result"
    }
   ],
   "source": [
    "# 3 agents!\n",
    "model.grid.grid[3][3]"
   ]
  },
  {
   "cell_type": "markdown",
   "metadata": {},
   "source": [
    "### track each step by visualization"
   ]
  },
  {
   "cell_type": "code",
   "execution_count": 205,
   "metadata": {},
   "outputs": [
    {
     "data": {
      "image/png": "[encoded data removed]",
      "text/plain": [
       "<matplotlib.figure.Figure at 0x1b404e00cc0>"
      ]
     },
     "metadata": {},
     "output_type": "display_data"
    }
   ],
   "source": [
    "model = MoneyModel(50, 10, 10)\n",
    "ncol = 4\n",
    "nrow = 4\n",
    "plt.figure(figsize=(3*ncol,3*nrow))\n",
    "\n",
    "for i in range(ncol*nrow):\n",
    "    plt.subplot(nrow,ncol,i+1, )\n",
    "    agent_counts = np.zeros((model.grid.width, model.grid.height))\n",
    "    for cell in model.grid.coord_iter():\n",
    "        content, x, y = cell\n",
    "        agent_counts[x][y] = len(content)\n",
    "    plt.imshow(agent_counts)\n",
    "    plt.title(\"Step: %s\"%model.n_steps)\n",
    "    plt.axis(\"off\")\n",
    "    model.step()\n",
    "plt.tight_layout()"
   ]
  },
  {
   "cell_type": "code",
   "execution_count": 208,
   "metadata": {},
   "outputs": [
    {
     "data": {
      "image/png": "[encoded data removed]",
      "text/plain": [
       "<matplotlib.figure.Figure at 0x1b4050fdd68>"
      ]
     },
     "metadata": {},
     "output_type": "display_data"
    }
   ],
   "source": [
    "import matplotlib.pyplot as plt\n",
    "%matplotlib inline\n",
    "agent_wealths = [a.wealth for a in model.schedule.agents]\n",
    "plt.hist(agent_wealths, bins = 30)\n",
    "plt.title(\"Distribution after 100 steps\")\n",
    "plt.grid()\n",
    "# and the inequality still increases over time"
   ]
  },
  {
   "cell_type": "markdown",
   "metadata": {},
   "source": [
    "### Gini Index"
   ]
  },
  {
   "cell_type": "code",
   "execution_count": 225,
   "metadata": {
    "scrolled": false
   },
   "outputs": [
    {
     "name": "stdout",
     "output_type": "stream",
     "text": [
      "[1, 1, 1, 1, 1, 1, 1, 1, 1, 1]\n",
      "10\n",
      "xi: 1\n",
      "N-i: 10\n",
      "xi: 1\n",
      "N-i: 9\n",
      "xi: 1\n",
      "N-i: 8\n",
      "xi: 1\n",
      "N-i: 7\n",
      "xi: 1\n",
      "N-i: 6\n",
      "xi: 1\n",
      "N-i: 5\n",
      "xi: 1\n",
      "N-i: 4\n",
      "xi: 1\n",
      "N-i: 3\n",
      "xi: 1\n",
      "N-i: 2\n",
      "xi: 1\n",
      "N-i: 1\n",
      "[10, 9, 8, 7, 6, 5, 4, 3, 2, 1]\n",
      "55\n",
      "sum(x)*N: 100\n",
      "B: 0.55\n",
      "1/N: 0.1\n",
      "2*B: 1.1\n",
      "Gini Index: 0.0\n"
     ]
    }
   ],
   "source": [
    "model = MoneyModel(10, 5, 5)\n",
    "agent_wealths = [a.wealth for a in model.schedule.agents]\n",
    "\n",
    "x = sorted(agent_wealths)\n",
    "N = model.num_agents\n",
    "print(x)\n",
    "print(N)\n",
    "for i,xi in enumerate(x):\n",
    "    print(\"xi:\", xi)\n",
    "    print(\"N-i:\", N-i)\n",
    "print([xi * (N-i) for i,xi in enumerate(x)])\n",
    "print(sum([xi * (N-i) for i,xi in enumerate(x)]))\n",
    "print(\"sum(x)*N:\", sum(x)*N)\n",
    "B = sum( xi * (N-i) for i,xi in enumerate(x) ) / (N*sum(x))\n",
    "print(\"B:\", B)\n",
    "print(\"1/N:\",1/N)\n",
    "print(\"2*B:\",2*B)\n",
    "print(\"Gini Index:\", 1+(1/N)-2*B)"
   ]
  },
  {
   "cell_type": "code",
   "execution_count": 226,
   "metadata": {},
   "outputs": [
    {
     "name": "stdout",
     "output_type": "stream",
     "text": [
      "[0, 0, 0, 0, 1, 1, 1, 2, 2, 3]\n",
      "10\n",
      "xi: 0\n",
      "N-i: 10\n",
      "xi: 0\n",
      "N-i: 9\n",
      "xi: 0\n",
      "N-i: 8\n",
      "xi: 0\n",
      "N-i: 7\n",
      "xi: 1\n",
      "N-i: 6\n",
      "xi: 1\n",
      "N-i: 5\n",
      "xi: 1\n",
      "N-i: 4\n",
      "xi: 2\n",
      "N-i: 3\n",
      "xi: 2\n",
      "N-i: 2\n",
      "xi: 3\n",
      "N-i: 1\n",
      "[0, 0, 0, 0, 6, 5, 4, 6, 4, 3]\n",
      "28\n",
      "sum(x)*N: 100\n",
      "B: 0.28\n",
      "1/N: 0.1\n",
      "2*B: 0.56\n",
      "Gini Index: 0.54\n"
     ]
    }
   ],
   "source": [
    "for i in range(20):\n",
    "    model.step()\n",
    "agent_wealths = [a.wealth for a in model.schedule.agents]\n",
    "\n",
    "x = sorted(agent_wealths)\n",
    "N = model.num_agents\n",
    "print(x)\n",
    "print(N)\n",
    "for i,xi in enumerate(x):\n",
    "    print(\"xi:\", xi)\n",
    "    print(\"N-i:\", N-i)\n",
    "print([xi * (N-i) for i,xi in enumerate(x)])\n",
    "print(sum([xi * (N-i) for i,xi in enumerate(x)]))\n",
    "print(\"sum(x)*N:\", sum(x)*N)\n",
    "B = sum( xi * (N-i) for i,xi in enumerate(x) ) / (N*sum(x))\n",
    "print(\"B:\", B)\n",
    "print(\"1/N:\",1/N)\n",
    "print(\"2*B:\",2*B)\n",
    "print(\"Gini Index:\", 1+(1/N)-2*B)"
   ]
  },
  {
   "cell_type": "code",
   "execution_count": 227,
   "metadata": {},
   "outputs": [],
   "source": [
    "def compute_gini(model):\n",
    "    agent_wealths = [agent.wealth for agent in model.schedule.agents]\n",
    "    x = sorted(agent_wealths)\n",
    "    N = model.num_agents\n",
    "    B = sum( xi * (N-i) for i,xi in enumerate(x) ) / (N*sum(x))\n",
    "    return (1 + (1/N) - 2*B)"
   ]
  },
  {
   "cell_type": "code",
   "execution_count": 228,
   "metadata": {},
   "outputs": [
    {
     "data": {
      "text/plain": [
       "0.54"
      ]
     },
     "execution_count": 228,
     "metadata": {},
     "output_type": "execute_result"
    }
   ],
   "source": [
    "compute_gini(model)"
   ]
  },
  {
   "cell_type": "markdown",
   "metadata": {},
   "source": [
    "### How to automatically store data for each run? (step)"
   ]
  },
  {
   "cell_type": "code",
   "execution_count": 206,
   "metadata": {},
   "outputs": [],
   "source": [
    "from mesa.datacollection import DataCollector"
   ]
  },
  {
   "cell_type": "code",
   "execution_count": 253,
   "metadata": {},
   "outputs": [],
   "source": [
    "class MoneyAgent(Agent):\n",
    "    def __init__(self, unique_id, model):\n",
    "        super().__init__(unique_id, model)\n",
    "        self.wealth = 1   \n",
    "    def step(self):\n",
    "        self.move()\n",
    "        if self.wealth > 0:\n",
    "            self.give_money()\n",
    "\n",
    "    def move(self):\n",
    "        possible_steps = self.model.grid.get_neighborhood(\n",
    "            self.pos,\n",
    "            moore = True,\n",
    "            include_center = False)\n",
    "        new_position = random.choice(possible_steps)\n",
    "        self.model.grid.move_agent(self, new_position)\n",
    "    \n",
    "    def give_money(self):\n",
    "        cellmates = self.model.grid.get_cell_list_contents([self.pos])\n",
    "        if len(cellmates) > 1:\n",
    "            other = random.choice(cellmates)\n",
    "            other.wealth += 1\n",
    "            self.wealth -= 1\n",
    "\n",
    "def compute_gini(model):\n",
    "    agent_wealths = [agent.wealth for agent in model.schedule.agents]\n",
    "    x = sorted(agent_wealths)\n",
    "    N = model.num_agents\n",
    "    B = sum( xi * (N-i) for i,xi in enumerate(x) ) / (N*sum(x))\n",
    "    return (1 + (1/N) - 2*B)\n",
    "            \n",
    "class MoneyModel(Model):\n",
    "    def __init__(self, N, width, height):\n",
    "        self.num_agents = N\n",
    "        self.grid = MultiGrid(width, height, True)\n",
    "        self.schedule = RandomActivation(self)\n",
    "        self.n_steps = 0\n",
    "        \n",
    "        for i in range(self.num_agents):\n",
    "            a = MoneyAgent(i, self)\n",
    "            self.schedule.add(a)\n",
    "            x = random.randrange(self.grid.width)\n",
    "            y = random.randrange(self.grid.height)\n",
    "            self.grid.place_agent(a, (x, y))\n",
    "        \"\"\"\"\"\"\n",
    "        self.datacollector = DataCollector(\n",
    "            model_reporters = {\"Gini\": compute_gini}, # function to call\n",
    "            agent_reporters = {\"Wealth\": \"wealth\"}) # agent's attribute\n",
    "        \"\"\"\"\"\"\n",
    "    def step(self):\n",
    "        \"\"\"\"\"\"\n",
    "        self.datacollector.collect(self)\n",
    "        \"\"\"\"\"\"\n",
    "        self.schedule.step()\n",
    "        self.n_steps += 1"
   ]
  },
  {
   "cell_type": "code",
   "execution_count": 321,
   "metadata": {},
   "outputs": [
    {
     "name": "stdout",
     "output_type": "stream",
     "text": [
      "0.0\n",
      "0.6528\n"
     ]
    }
   ],
   "source": [
    "model = MoneyModel(50, 10, 10)\n",
    "print(compute_gini(model))\n",
    "for i in range(1001):\n",
    "    model.step()\n",
    "print(compute_gini(model))"
   ]
  },
  {
   "cell_type": "code",
   "execution_count": 322,
   "metadata": {},
   "outputs": [
    {
     "data": {
      "text/plain": [
       "[Text(0,0,''), Text(0,0,'0.5'), Text(0,0,'1.0')]"
      ]
     },
     "execution_count": 322,
     "metadata": {},
     "output_type": "execute_result"
    },
    {
     "data": {
      "image/png": "[encoded data removed]",
      "text/plain": [
       "<matplotlib.figure.Figure at 0x1b40c186400>"
      ]
     },
     "metadata": {},
     "output_type": "display_data"
    }
   ],
   "source": [
    "gini = model.datacollector.get_model_vars_dataframe()\n",
    "fig, ax = plt.subplots()\n",
    "gini.plot(ax=ax, grid = True, legend = False)\n",
    "# ax.autoscale(tight = True)\n",
    "\n",
    "ax.set_xlabel(\"STEPS\")\n",
    "ax.set_title(\"Gini Index Changes over Time steps\")\n",
    "ax.set_ylim(0,1)\n",
    "ax.set_yticks([0.0,0.5,1.0])\n",
    "ax.set_yticklabels([\"\",\"0.5\",\"1.0\"])"
   ]
  },
  {
   "cell_type": "code",
   "execution_count": 326,
   "metadata": {},
   "outputs": [
    {
     "data": {
      "image/png": "[encoded data removed]",
      "text/plain": [
       "<matplotlib.figure.Figure at 0x1b40c2eaf60>"
      ]
     },
     "metadata": {},
     "output_type": "display_data"
    }
   ],
   "source": [
    "agent_wealth = model.datacollector.get_agent_vars_dataframe()\n",
    "fig, ax = plt.subplots(figsize = (12,4))\n",
    "agent_wealth.unstack().plot(ax=ax, color = \"blue\", alpha = 0.1, legend=False)\n",
    "ax.autoscale(tight = True)\n",
    "ax.grid()"
   ]
  },
  {
   "cell_type": "code",
   "execution_count": 435,
   "metadata": {},
   "outputs": [],
   "source": [
    "d = agent_wealth.unstack().loc[400].values\n",
    "d.sort()\n",
    "d = d/d.sum()"
   ]
  },
  {
   "cell_type": "code",
   "execution_count": 472,
   "metadata": {},
   "outputs": [
    {
     "name": "stdout",
     "output_type": "stream",
     "text": [
      "45 0.56\n"
     ]
    }
   ],
   "source": [
    "import math\n",
    "quantile = 0.10\n",
    "i = int(math.floor(len(d)*(1-quantile)))\n",
    "print(i, 1-d.cumsum()[i-1])"
   ]
  },
  {
   "cell_type": "code",
   "execution_count": 542,
   "metadata": {},
   "outputs": [
    {
     "data": {
      "text/plain": [
       "Text(0.5,1,'Population and Wealth Distribution\\n\"Top 10.0% of Rich People possess 56.0% of Total Wealth\"')"
      ]
     },
     "execution_count": 542,
     "metadata": {},
     "output_type": "execute_result"
    },
    {
     "data": {
      "image/png": "[encoded data removed]",
      "text/plain": [
       "<matplotlib.figure.Figure at 0x1b4142e0710>"
      ]
     },
     "metadata": {},
     "output_type": "display_data"
    }
   ],
   "source": [
    "import math\n",
    "quantile = 0.1\n",
    "i = int(math.floor(len(d)*(1-quantile)))\n",
    "\n",
    "width = 0.5\n",
    "\n",
    "plt.figure(figsize = (10,8))\n",
    "\n",
    "plt.bar(x = 1, height = 1-quantile, width = width, color = \"red\",\n",
    "        label = \"%s %% lower\"%((1-quantile)*100))\n",
    "plt.bar(x = 1, height = quantile, bottom = 1-quantile, width = width, color = \"green\",\n",
    "        label = \"%s %% upper\"%((quantile)*100))\n",
    "\n",
    "plt.bar(x = 2, height = d.cumsum()[i-1], width = width, color = \"red\")\n",
    "plt.text(x = 2, y = 0.3, s = \"%s%%\"%np.round((d.cumsum()[i-1])*100, 2), verticalalignment='center', horizontalalignment='center')\n",
    "\n",
    "plt.bar(x = 2, height = 1-d.cumsum()[i-1], bottom = d.cumsum()[i-1], width = width, color = \"green\")\n",
    "plt.text(x = 2, y = 0.8, s = \"%s%%\"%np.round((1-d.cumsum()[i-1])*100, 2), verticalalignment='center', horizontalalignment='center')\n",
    "\n",
    "\n",
    "plt.ylim(0,1.5)\n",
    "plt.yticks([0,1])\n",
    "plt.xticks([1,2], (\"Population\", \"Wealth\"))\n",
    "plt.legend(loc = 9)\n",
    "plt.title('Population and Wealth Distribution\\n\"Top {pop}% of Rich People possess {wealth}% of Total Wealth\"'.format(pop=(quantile)*100, wealth=np.round((1-d.cumsum()[i-1])*100, 2)))"
   ]
  }
 ],
 "metadata": {
  "kernelspec": {
   "display_name": "Python 3",
   "language": "python",
   "name": "python3"
  },
  "language_info": {
   "codemirror_mode": {
    "name": "ipython",
    "version": 3
   },
   "file_extension": ".py",
   "mimetype": "text/x-python",
   "name": "python",
   "nbconvert_exporter": "python",
   "pygments_lexer": "ipython3",
   "version": "3.6.4"
  }
 },
 "nbformat": 4,
 "nbformat_minor": 2
}
