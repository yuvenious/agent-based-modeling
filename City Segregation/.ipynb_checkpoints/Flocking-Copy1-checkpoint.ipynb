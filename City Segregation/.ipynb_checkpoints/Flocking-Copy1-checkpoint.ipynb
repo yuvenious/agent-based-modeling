{
 "cells": [
  {
   "cell_type": "code",
   "execution_count": 1,
   "metadata": {},
   "outputs": [],
   "source": [
    "import numpy as np\n",
    "import matplotlib.pyplot as plt\n",
    "\n",
    "from mesa import Model, Agent\n",
    "from mesa.time import RandomActivation\n",
    "from mesa.space import MultiGrid, SingleGrid\n",
    "\n",
    "import random\n",
    "import itertools"
   ]
  },
  {
   "cell_type": "code",
   "execution_count": 65,
   "metadata": {},
   "outputs": [],
   "source": [
    "class Flock(Model):\n",
    "    \n",
    "    def __init__(self, n_birds, n_hawks, width, height):\n",
    "        self.n_birds = n_birds\n",
    "        self.n_hawks = n_hawks\n",
    "        self.width = width\n",
    "        self.height = height\n",
    "        \n",
    "        self.bird_x_coor = dict(zip(np.arange(n_birds), np.random.choice(width, size = n_birds)))\n",
    "        self.bird_y_coor = dict(zip(np.arange(n_birds), np.random.choice(height, size = n_birds)))\n",
    "        self.birds_coor = dict(zip(np.arange(n_birds),zip(self.bird_x_coor.values(), self.bird_y_coor.values())))\n",
    "        \n",
    "    def plot(self):\n",
    "        plt.figure(figsize=(6,6))\n",
    "        plt.scatter(self.bird_x_coor.values(), self.bird_y_coor.values(), alpha = 0.5)\n",
    "        plt.axis(\"off\")\n",
    "        \n",
    "    "
   ]
  },
  {
   "cell_type": "code",
   "execution_count": 66,
   "metadata": {},
   "outputs": [],
   "source": [
    "flock = Flock(n_birds=200, n_hawks=10,\n",
    "              width = 20, height = 30)"
   ]
  },
  {
   "cell_type": "code",
   "execution_count": 67,
   "metadata": {},
   "outputs": [
    {
     "data": {
      "image/png": "[encoded data removed]",
      "text/plain": [
       "<Figure size 432x432 with 1 Axes>"
      ]
     },
     "metadata": {},
     "output_type": "display_data"
    }
   ],
   "source": [
    "flock.plot()"
   ]
  },
  {
   "cell_type": "code",
   "execution_count": null,
   "metadata": {},
   "outputs": [],
   "source": []
  },
  {
   "cell_type": "code",
   "execution_count": null,
   "metadata": {},
   "outputs": [],
   "source": []
  },
  {
   "cell_type": "code",
   "execution_count": null,
   "metadata": {},
   "outputs": [],
   "source": []
  },
  {
   "cell_type": "code",
   "execution_count": null,
   "metadata": {},
   "outputs": [],
   "source": []
  }
 ],
 "metadata": {
  "kernelspec": {
   "display_name": "Python 3",
   "language": "python",
   "name": "python3"
  },
  "language_info": {
   "codemirror_mode": {
    "name": "ipython",
    "version": 3
   },
   "file_extension": ".py",
   "mimetype": "text/x-python",
   "name": "python",
   "nbconvert_exporter": "python",
   "pygments_lexer": "ipython3",
   "version": "3.6.4"
  }
 },
 "nbformat": 4,
 "nbformat_minor": 2
}
