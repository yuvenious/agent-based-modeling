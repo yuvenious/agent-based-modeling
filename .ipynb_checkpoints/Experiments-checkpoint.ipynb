{
 "cells": [
  {
   "cell_type": "code",
   "execution_count": null,
   "metadata": {},
   "outputs": [],
   "source": [
    "import math\n",
    "import numpy as np\n",
    "import pandas as pd\n",
    "\n",
    "import matplotlib.pyplot as plt\n",
    "import seaborn as sns\n",
    "\n",
    "from ema_workbench import (perform_experiments, Model, RealParameter, ScalarOutcome,\n",
    "                           Constant, ema_logging, MultiprocessingEvaluator)\n",
    "from ema_workbench.em_framework.evaluators import MC\n",
    "\n",
    "ema_logging.log_to_stderr(ema_logging.INFO)"
   ]
  },
  {
   "cell_type": "code",
   "execution_count": null,
   "metadata": {},
   "outputs": [],
   "source": [
    "from recycle_model import recycle_model"
   ]
  },
  {
   "cell_type": "code",
   "execution_count": null,
   "metadata": {},
   "outputs": [],
   "source": [
    "model = Model('plastic', function=recycle_model)\n",
    "\n",
    "model.uncertainties = [RealParameter('target', -0.05, 0.05),\n",
    "                       RealParameter('percept', 0.1, 0.5),\n",
    "                       RealParameter('knowledge', 0.1, 0.5),\n",
    "                       RealParameter('frac_p_max', 0.1, 0.5),\n",
    "                       RealParameter('frac_r_max', 0.5, 0.8),\n",
    "                       RealParameter('budget_camp_prop', 0.3, 0.7),\n",
    "                       RealParameter('infra', 0, 0.2),\n",
    "                       RealParameter('ambitious', 0, 1)]\n",
    "\n",
    "model.outcomes = [ScalarOutcome('plastic_prop',),\n",
    "                  ScalarOutcome('recycle_prop'),\n",
    "                  ScalarOutcome('target_met'),\n",
    "                  ScalarOutcome('camp_bud_left')]\n",
    "\n",
    "n_scenarios = 1000"
   ]
  },
  {
   "cell_type": "code",
   "execution_count": null,
   "metadata": {},
   "outputs": [],
   "source": [
    "with MultiprocessingEvaluator(model) as evaluator:\n",
    "        results = evaluator.perform_experiments(n_scenarios)"
   ]
  },
  {
   "cell_type": "code",
   "execution_count": null,
   "metadata": {},
   "outputs": [],
   "source": [
    "def result_df(results):\n",
    "    df_result = pd.DataFrame()\n",
    "    for i, key in enumerate(results[1].keys()):\n",
    "        df_result[key] = results[1][key]\n",
    "    return df_result\n",
    "df_result = result_df(results)\n",
    "df_result.head()"
   ]
  },
  {
   "cell_type": "code",
   "execution_count": null,
   "metadata": {},
   "outputs": [],
   "source": [
    "sns.pairplot(df)"
   ]
  },
  {
   "cell_type": "code",
   "execution_count": null,
   "metadata": {},
   "outputs": [],
   "source": [
    "def result_input(results):\n",
    "    df_input = pd.DataFrame(index=list(results[0].dtype.names)[:8])\n",
    "    for i in range(len(results[0])):\n",
    "        df_input[i] = list(results[0][i])[:8]\n",
    "    return df_input.T\n",
    "df_input = result_input(results)\n",
    "df_input.head()"
   ]
  },
  {
   "cell_type": "code",
   "execution_count": null,
   "metadata": {},
   "outputs": [],
   "source": [
    "ncols = df_input.shape[1]\n",
    "nrows = df_result.shape[1]\n",
    "\n",
    "plt.figure(figsize=(ncols*2, nrows*2))\n",
    "loc = 1\n",
    "for j, ycol in enumerate(df_result):\n",
    "    y = df_result[ycol]\n",
    "    for i, xcol in enumerate(df_input):\n",
    "        x = df_input[xcol]\n",
    "        plt.subplot(nrows, ncols, loc)\n",
    "        plt.scatter(x,y, color = \"darkred\", alpha = 0.1)\n",
    "        plt.xlabel(xcol)\n",
    "        plt.ylabel(ycol)\n",
    "        plt.grid()\n",
    "        plt.autoscale(tight=True)\n",
    "        loc += 1\n",
    "plt.tight_layout()"
   ]
  },
  {
   "cell_type": "code",
   "execution_count": null,
   "metadata": {},
   "outputs": [],
   "source": []
  }
 ],
 "metadata": {
  "kernelspec": {
   "display_name": "Python (py36_32)",
   "language": "python",
   "name": "py36_32"
  },
  "language_info": {
   "codemirror_mode": {
    "name": "ipython",
    "version": 3
   },
   "file_extension": ".py",
   "mimetype": "text/x-python",
   "name": "python",
   "nbconvert_exporter": "python",
   "pygments_lexer": "ipython3",
   "version": "3.6.4"
  }
 },
 "nbformat": 4,
 "nbformat_minor": 2
}
